{
 "cells": [
  {
   "cell_type": "code",
   "execution_count": 1,
   "id": "9e05f0f0-af4e-47a6-9998-4d0ee0d0d023",
   "metadata": {},
   "outputs": [],
   "source": [
    "import numpy as np\n",
    "import pandas as pd"
   ]
  },
  {
   "cell_type": "code",
   "execution_count": 2,
   "id": "90172dd4-4907-4ad9-a462-4a1c66b7bdba",
   "metadata": {},
   "outputs": [],
   "source": [
    "path_to_file = '../data/wx_data/USC00110072.txt'\n",
    "\n",
    "df = pd.read_fwf(path_to_file, widths=[8,6,6,6], names=['date', 'max_temp', 'min_temp', 'precipitation'])\n",
    "\n",
    "df['date'] = pd.to_datetime(df['date'], format='%Y%m%d')\n",
    "df[['max_temp', 'min_temp', 'precipitation']] = df[['max_temp', 'min_temp', 'precipitation']].replace(-9999.0, np.nan)\n",
    "\n",
    "df['station_id'] = path_to_file.split('/')[-1].split('.')[0]"
   ]
  },
  {
   "cell_type": "code",
   "execution_count": 10,
   "id": "13eae14a-513e-48a6-b495-d1a2be452e59",
   "metadata": {},
   "outputs": [
    {
     "data": {
      "text/html": [
       "<div>\n",
       "<style scoped>\n",
       "    .dataframe tbody tr th:only-of-type {\n",
       "        vertical-align: middle;\n",
       "    }\n",
       "\n",
       "    .dataframe tbody tr th {\n",
       "        vertical-align: top;\n",
       "    }\n",
       "\n",
       "    .dataframe thead th {\n",
       "        text-align: right;\n",
       "    }\n",
       "</style>\n",
       "<table border=\"1\" class=\"dataframe\">\n",
       "  <thead>\n",
       "    <tr style=\"text-align: right;\">\n",
       "      <th></th>\n",
       "      <th>date</th>\n",
       "      <th>max_temp</th>\n",
       "      <th>min_temp</th>\n",
       "      <th>precipitation</th>\n",
       "      <th>station_id</th>\n",
       "      <th>year</th>\n",
       "    </tr>\n",
       "  </thead>\n",
       "  <tbody>\n",
       "    <tr>\n",
       "      <th>0</th>\n",
       "      <td>1985-01-01</td>\n",
       "      <td>-22.0</td>\n",
       "      <td>-128.0</td>\n",
       "      <td>94.0</td>\n",
       "      <td>USC00110072</td>\n",
       "      <td>1985</td>\n",
       "    </tr>\n",
       "    <tr>\n",
       "      <th>1</th>\n",
       "      <td>1985-01-02</td>\n",
       "      <td>-122.0</td>\n",
       "      <td>-217.0</td>\n",
       "      <td>0.0</td>\n",
       "      <td>USC00110072</td>\n",
       "      <td>1985</td>\n",
       "    </tr>\n",
       "    <tr>\n",
       "      <th>2</th>\n",
       "      <td>1985-01-03</td>\n",
       "      <td>-106.0</td>\n",
       "      <td>-244.0</td>\n",
       "      <td>0.0</td>\n",
       "      <td>USC00110072</td>\n",
       "      <td>1985</td>\n",
       "    </tr>\n",
       "    <tr>\n",
       "      <th>3</th>\n",
       "      <td>1985-01-04</td>\n",
       "      <td>-56.0</td>\n",
       "      <td>-189.0</td>\n",
       "      <td>0.0</td>\n",
       "      <td>USC00110072</td>\n",
       "      <td>1985</td>\n",
       "    </tr>\n",
       "    <tr>\n",
       "      <th>4</th>\n",
       "      <td>1985-01-05</td>\n",
       "      <td>11.0</td>\n",
       "      <td>-78.0</td>\n",
       "      <td>0.0</td>\n",
       "      <td>USC00110072</td>\n",
       "      <td>1985</td>\n",
       "    </tr>\n",
       "  </tbody>\n",
       "</table>\n",
       "</div>"
      ],
      "text/plain": [
       "        date  max_temp  min_temp  precipitation   station_id  year\n",
       "0 1985-01-01     -22.0    -128.0           94.0  USC00110072  1985\n",
       "1 1985-01-02    -122.0    -217.0            0.0  USC00110072  1985\n",
       "2 1985-01-03    -106.0    -244.0            0.0  USC00110072  1985\n",
       "3 1985-01-04     -56.0    -189.0            0.0  USC00110072  1985\n",
       "4 1985-01-05      11.0     -78.0            0.0  USC00110072  1985"
      ]
     },
     "execution_count": 10,
     "metadata": {},
     "output_type": "execute_result"
    }
   ],
   "source": [
    "df.head()"
   ]
  },
  {
   "cell_type": "code",
   "execution_count": 9,
   "id": "f56c7f24-6459-413c-9f75-2d1ee406fa90",
   "metadata": {},
   "outputs": [],
   "source": [
    "df['year'] = df.apply(lambda row: row['date'].year, axis=1)"
   ]
  },
  {
   "cell_type": "code",
   "execution_count": 17,
   "id": "c00595fb-1545-4fb5-8159-9c8c801e6e61",
   "metadata": {},
   "outputs": [
    {
     "data": {
      "text/plain": [
       "79.36"
      ]
     },
     "execution_count": 17,
     "metadata": {},
     "output_type": "execute_result"
    }
   ],
   "source": [
    "sum(list(df.loc[df['year']==1987].precipitation))/100.0"
   ]
  },
  {
   "cell_type": "code",
   "execution_count": null,
   "id": "682d0205-001a-46b5-b09d-d6ba4b828c05",
   "metadata": {},
   "outputs": [],
   "source": []
  },
  {
   "cell_type": "code",
   "execution_count": null,
   "id": "f76eb413-335c-4deb-a82b-72b5ea6190e2",
   "metadata": {},
   "outputs": [],
   "source": []
  },
  {
   "cell_type": "code",
   "execution_count": null,
   "id": "c5a262d8-e5e2-49ab-b40a-0785f39f97b1",
   "metadata": {},
   "outputs": [],
   "source": []
  },
  {
   "cell_type": "code",
   "execution_count": null,
   "id": "100fea63-927d-4fd2-a6b9-ddac48fe19f7",
   "metadata": {},
   "outputs": [],
   "source": []
  }
 ],
 "metadata": {
  "kernelspec": {
   "display_name": "Python 3 (ipykernel)",
   "language": "python",
   "name": "python3"
  },
  "language_info": {
   "codemirror_mode": {
    "name": "ipython",
    "version": 3
   },
   "file_extension": ".py",
   "mimetype": "text/x-python",
   "name": "python",
   "nbconvert_exporter": "python",
   "pygments_lexer": "ipython3",
   "version": "3.10.10"
  }
 },
 "nbformat": 4,
 "nbformat_minor": 5
}
