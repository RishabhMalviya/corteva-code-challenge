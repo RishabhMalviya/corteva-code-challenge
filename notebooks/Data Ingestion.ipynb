{
 "cells": [
  {
   "cell_type": "code",
   "execution_count": 33,
   "id": "1be06a8d-351b-4e33-b99d-9c7614f4057b",
   "metadata": {},
   "outputs": [],
   "source": [
    "import numpy as np\n",
    "import pandas as pd"
   ]
  },
  {
   "cell_type": "code",
   "execution_count": 39,
   "id": "99671ca9-b83d-4a2b-a46b-eda75094f42e",
   "metadata": {},
   "outputs": [],
   "source": [
    "path_to_file = '../data/wx_data/USC00110072.txt'\n",
    "\n",
    "df = pd.read_fwf(path_to_file, widths=[8,6,6,6], names=['date', 'max_temp', 'min_temp', 'precipitation'])\n",
    "\n",
    "df['date'] = pd.to_datetime(df['date'], format='%Y%m%d')\n",
    "df[['max_temp', 'min_temp', 'precipitation']] = df[['max_temp', 'min_temp', 'precipitation']].replace(-9999.0, np.nan)\n",
    "\n",
    "df['station_id'] = path_to_file.split('/')[-1].split('.')[0]"
   ]
  },
  {
   "cell_type": "code",
   "execution_count": 41,
   "id": "3be82579-7748-4d64-91b3-5ac7bf432cc8",
   "metadata": {},
   "outputs": [
    {
     "data": {
      "text/html": [
       "<div>\n",
       "<style scoped>\n",
       "    .dataframe tbody tr th:only-of-type {\n",
       "        vertical-align: middle;\n",
       "    }\n",
       "\n",
       "    .dataframe tbody tr th {\n",
       "        vertical-align: top;\n",
       "    }\n",
       "\n",
       "    .dataframe thead th {\n",
       "        text-align: right;\n",
       "    }\n",
       "</style>\n",
       "<table border=\"1\" class=\"dataframe\">\n",
       "  <thead>\n",
       "    <tr style=\"text-align: right;\">\n",
       "      <th></th>\n",
       "      <th>date</th>\n",
       "      <th>max_temp</th>\n",
       "      <th>min_temp</th>\n",
       "      <th>precipitation</th>\n",
       "      <th>station_id</th>\n",
       "    </tr>\n",
       "  </thead>\n",
       "  <tbody>\n",
       "    <tr>\n",
       "      <th>0</th>\n",
       "      <td>1985-01-01</td>\n",
       "      <td>-22.0</td>\n",
       "      <td>-128.0</td>\n",
       "      <td>94.0</td>\n",
       "      <td>USC00110072</td>\n",
       "    </tr>\n",
       "    <tr>\n",
       "      <th>1</th>\n",
       "      <td>1985-01-02</td>\n",
       "      <td>-122.0</td>\n",
       "      <td>-217.0</td>\n",
       "      <td>0.0</td>\n",
       "      <td>USC00110072</td>\n",
       "    </tr>\n",
       "    <tr>\n",
       "      <th>2</th>\n",
       "      <td>1985-01-03</td>\n",
       "      <td>-106.0</td>\n",
       "      <td>-244.0</td>\n",
       "      <td>0.0</td>\n",
       "      <td>USC00110072</td>\n",
       "    </tr>\n",
       "    <tr>\n",
       "      <th>3</th>\n",
       "      <td>1985-01-04</td>\n",
       "      <td>-56.0</td>\n",
       "      <td>-189.0</td>\n",
       "      <td>0.0</td>\n",
       "      <td>USC00110072</td>\n",
       "    </tr>\n",
       "    <tr>\n",
       "      <th>4</th>\n",
       "      <td>1985-01-05</td>\n",
       "      <td>11.0</td>\n",
       "      <td>-78.0</td>\n",
       "      <td>0.0</td>\n",
       "      <td>USC00110072</td>\n",
       "    </tr>\n",
       "  </tbody>\n",
       "</table>\n",
       "</div>"
      ],
      "text/plain": [
       "        date  max_temp  min_temp  precipitation   station_id\n",
       "0 1985-01-01     -22.0    -128.0           94.0  USC00110072\n",
       "1 1985-01-02    -122.0    -217.0            0.0  USC00110072\n",
       "2 1985-01-03    -106.0    -244.0            0.0  USC00110072\n",
       "3 1985-01-04     -56.0    -189.0            0.0  USC00110072\n",
       "4 1985-01-05      11.0     -78.0            0.0  USC00110072"
      ]
     },
     "execution_count": 41,
     "metadata": {},
     "output_type": "execute_result"
    }
   ],
   "source": [
    "df.head()"
   ]
  },
  {
   "cell_type": "code",
   "execution_count": 40,
   "id": "806c5aea-2733-4b95-8beb-5257f2d14a50",
   "metadata": {},
   "outputs": [
    {
     "data": {
      "text/plain": [
       "date             datetime64[ns]\n",
       "max_temp                float64\n",
       "min_temp                float64\n",
       "precipitation           float64\n",
       "station_id               object\n",
       "dtype: object"
      ]
     },
     "execution_count": 40,
     "metadata": {},
     "output_type": "execute_result"
    }
   ],
   "source": [
    "df.dtypes"
   ]
  },
  {
   "cell_type": "code",
   "execution_count": 46,
   "id": "332b71d8-0508-459f-9da7-7f39121b6f63",
   "metadata": {},
   "outputs": [
    {
     "name": "stdout",
     "output_type": "stream",
     "text": [
      "            date  max_temp  min_temp  precipitation   station_id\n",
      "31    1985-02-01     -83.0       NaN            0.0  USC00110072\n",
      "119   1985-04-30     244.0       NaN           58.0  USC00110072\n",
      "2223  1991-05-05     172.0      72.0            NaN  USC00110072\n",
      "2224  1991-05-06      94.0      50.0            NaN  USC00110072\n",
      "2225  1991-05-07     200.0      17.0            NaN  USC00110072\n",
      "...          ...       ...       ...            ...          ...\n",
      "10475 2013-12-07       NaN       NaN            0.0  USC00110072\n",
      "10609 2014-04-20       NaN       NaN            0.0  USC00110072\n",
      "10610 2014-04-21       NaN       NaN            0.0  USC00110072\n",
      "10611 2014-04-22     178.0       NaN            5.0  USC00110072\n",
      "10773 2014-10-01       NaN     100.0            0.0  USC00110072\n",
      "\n",
      "[444 rows x 5 columns]\n"
     ]
    }
   ],
   "source": [
    "rows_with_nan = df[df.isna().any(axis=1)]\n",
    "print(rows_with_nan)"
   ]
  },
  {
   "cell_type": "code",
   "execution_count": null,
   "id": "26817725-39e4-4a72-a343-18475c144782",
   "metadata": {},
   "outputs": [],
   "source": []
  }
 ],
 "metadata": {
  "kernelspec": {
   "display_name": "Python 3 (ipykernel)",
   "language": "python",
   "name": "python3"
  },
  "language_info": {
   "codemirror_mode": {
    "name": "ipython",
    "version": 3
   },
   "file_extension": ".py",
   "mimetype": "text/x-python",
   "name": "python",
   "nbconvert_exporter": "python",
   "pygments_lexer": "ipython3",
   "version": "3.10.10"
  }
 },
 "nbformat": 4,
 "nbformat_minor": 5
}
